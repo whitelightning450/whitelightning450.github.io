{
 "cells": [
  {
   "cell_type": "markdown",
   "metadata": {
    "tags": []
   },
   "source": [
    "\n",
    "# Model Development and Parameter Tuning\n",
    "\n",
    "<img align = 'center' src=\"./Images/ParameterTuning.png\" alt = 'drawing' width = '700'/>\n",
    "\n",
    "Explain the effects of parameter tuning and how it was performed. If you used a tool to perform automatic tuning , explaing that as well. If it is the case, explain model under or over fitting and the consequences.\n",
    "\n",
    "## Study Area Description\n",
    "\n",
    "Model developmnet leverage data from SNOTEL sites located throughout 11 states ranging from the US-Canada border to the US-Mexico border and from the Pacific coast to the eastern slope of the Rocky Mountains to establish the study periphery.\n",
    "The modeling domain includes all major mountain ranges but contains a greater portion of observations within the Sierra Nevada and the Rocky Mountains, where the water supply is dominated by seasonal snowpack and ongoing efforts by the Airborne Snow Observatory (ASO) provide ample data for data-driven model development.\n",
    "For the tutorial, we exclusively focus on the Upper Colorado River Basin.\n",
    "\n",
    "## Machine Learning Approach\n",
    "\n",
    "\n",
    "\n",
    "\n",
    "### GeoWeaver\n",
    "\n",
    "\n",
    "<img align = 'center' src=\"Images/GeoWeaver.jpg\" alt = 'drawing' width = '500'/>\n",
    "\n"
   ]
  },
  {
   "cell_type": "code",
   "execution_count": null,
   "metadata": {},
   "outputs": [],
   "source": []
  }
 ],
 "metadata": {
  "kernelspec": {
   "display_name": "Python 3 (ipykernel)",
   "language": "python",
   "name": "python3"
  },
  "language_info": {
   "codemirror_mode": {
    "name": "ipython",
    "version": 3
   },
   "file_extension": ".py",
   "mimetype": "text/x-python",
   "name": "python",
   "nbconvert_exporter": "python",
   "pygments_lexer": "ipython3",
   "version": "3.9.12"
  },
  "vscode": {
   "interpreter": {
    "hash": "c446eef832ec964573dc49f36fd16bdbed40cbfbefbf557bc2dc78d9e7968689"
   }
  }
 },
 "nbformat": 4,
 "nbformat_minor": 4
}
