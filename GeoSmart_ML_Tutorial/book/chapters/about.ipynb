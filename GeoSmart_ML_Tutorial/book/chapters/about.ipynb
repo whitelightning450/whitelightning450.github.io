{
 "cells": [
  {
   "cell_type": "markdown",
   "metadata": {
    "tags": []
   },
   "source": [
    "![ML_SWE-2.jpg](./Images/ML_SWE.jpg)\n",
    "\n",
    "# About the GeoSMART Snow ML Use Case Library\n",
    "[![GeoSMART Use Case](../img/use_case_badge.svg)](https://geo-smart.github.io/usecases)\n",
    "\n",
    "### General Overview\n",
    "\n",
    "\n",
    "This use case library contains a summary of the motivation behind the project, applicable ML methods and tools, the methods for data preparation, model development including the model training framework and evaluation, workflow management demonstrated using GeoWeaver, links to the complete model on GitHub as the model is data-intensive the tutorial is for a subset of the entire model, a discussion/conclusion, and a solitication to qestions.\n",
    "Below are the respective chapters addressing these items:\n",
    "\n",
    "\n",
    "\n",
    "Explain this family of books, link to others, explain how to contribute and purpose. Books in the library can be identified by the badge:\n",
    "\n",
    "1. [Motivation](./motivation.ipynb)\n",
    "2. [Machine Learning Methods and tools](./methods.ipynb)\n",
    "3. [Data Preparation](./data.ipynb)\n",
    "4. [Model Development and Parameter Tuning](./development.ipynb)\n",
    "5. [Model Training](./training.ipynb)\n",
    "6. [Evaluation of Model Performance](./evaluation.ipynb)\n",
    "7. [Workflow Management and Cloud Computing](./workflow.ipynb)\n",
    "8. [Repoducibility](./repoducibility.ipynb)\n",
    "9. [Discussion/Conclusion](./conclusion.ipynb)\n",
    "10. [Solicitation to Questions](./questions.ipynb)\n",
    "\n",
    "\n",
    "### Contributing Content\n",
    "\n",
    "Tutorial content supports the data processing, model training, and evaluation of the National Snow model for a subregion of Colorado.\n",
    "The goal is to provide get new users running executable code on our AWS platform.\n"
   ]
  },
  {
   "cell_type": "markdown",
   "metadata": {},
   "source": [
    "# "
   ]
  }
 ],
 "metadata": {
  "kernelspec": {
   "display_name": "Python 3 (ipykernel)",
   "language": "python",
   "name": "python3"
  },
  "language_info": {
   "codemirror_mode": {
    "name": "ipython",
    "version": 3
   },
   "file_extension": ".py",
   "mimetype": "text/x-python",
   "name": "python",
   "nbconvert_exporter": "python",
   "pygments_lexer": "ipython3",
   "version": "3.9.12"
  },
  "vscode": {
   "interpreter": {
    "hash": "c446eef832ec964573dc49f36fd16bdbed40cbfbefbf557bc2dc78d9e7968689"
   }
  }
 },
 "nbformat": 4,
 "nbformat_minor": 4
}
